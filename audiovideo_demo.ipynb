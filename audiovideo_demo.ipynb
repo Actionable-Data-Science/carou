{
 "cells": [
  {
   "cell_type": "markdown",
   "metadata": {},
   "source": [
    "### getLength(file_path)\n",
    "\n",
    "Get the duration of an audio or video file in seconds. \n",
    "\n",
    "inputs:\n",
    "\n",
    "- file_path: the path to the audio or video file. \n",
    "\n",
    "returns: \n",
    "\n",
    "float; the length of the audio/video file"
   ]
  },
  {
   "cell_type": "code",
   "execution_count": null,
   "metadata": {},
   "outputs": [],
   "source": [
    "from audiovideo.operations import getLength"
   ]
  },
  {
   "cell_type": "code",
   "execution_count": 2,
   "metadata": {},
   "outputs": [
    {
     "data": {
      "text/plain": [
       "18.072"
      ]
     },
     "execution_count": 2,
     "metadata": {},
     "output_type": "execute_result"
    }
   ],
   "source": [
    "aud_path = 'data_samples/short_wav.wav'\n",
    "aud_path = 'data_samples/short_mp3.mp3'\n",
    "\n",
    "getLength(aud_path)"
   ]
  },
  {
   "cell_type": "code",
   "execution_count": 4,
   "metadata": {},
   "outputs": [
    {
     "data": {
      "text/plain": [
       "16.598"
      ]
     },
     "execution_count": 4,
     "metadata": {},
     "output_type": "execute_result"
    }
   ],
   "source": [
    "vid_path = 'data_samples/mimics.mp4'\n",
    "getLength(vid_path)"
   ]
  },
  {
   "cell_type": "markdown",
   "metadata": {},
   "source": [
    "### split_video_file_into_chunks(video_input, chunk_duration, split_out_dir)\n",
    "\n",
    "Splits the input video into chunks of given length.\n",
    "\n"
   ]
  },
  {
   "cell_type": "code",
   "execution_count": 1,
   "metadata": {},
   "outputs": [],
   "source": [
    "from audiovideo.operations import split_video_file_into_chunks"
   ]
  },
  {
   "cell_type": "code",
   "execution_count": 2,
   "metadata": {},
   "outputs": [
    {
     "name": "stdout",
     "output_type": "stream",
     "text": [
      "Output directory not found. Creating...\n",
      "['ffmpeg', '-i', 'data_samples/ikinci el.wav', '-ss', '0', '-t', '60', 'data_samples/split/ikinci el_000.wav']\n",
      "['ffmpeg', '-i', 'data_samples/ikinci el.wav', '-ss', '60', '-t', '60', 'data_samples/split/ikinci el_001.wav']\n",
      "['ffmpeg', '-i', 'data_samples/ikinci el.wav', '-ss', '120', '-t', '60', 'data_samples/split/ikinci el_002.wav']\n",
      "['ffmpeg', '-i', 'data_samples/ikinci el.wav', '-ss', '180', '-t', '60', 'data_samples/split/ikinci el_003.wav']\n",
      "['ffmpeg', '-i', 'data_samples/ikinci el.wav', '-ss', '240', '-t', '60', 'data_samples/split/ikinci el_004.wav']\n",
      "['ffmpeg', '-i', 'data_samples/ikinci el.wav', '-ss', '300', '-t', '60', 'data_samples/split/ikinci el_005.wav']\n",
      "['ffmpeg', '-i', 'data_samples/ikinci el.wav', '-ss', '360', '-t', '60', 'data_samples/split/ikinci el_006.wav']\n",
      "['ffmpeg', '-i', 'data_samples/ikinci el.wav', '-ss', '420', '-t', '60', 'data_samples/split/ikinci el_007.wav']\n",
      "['ffmpeg', '-i', 'data_samples/ikinci el.wav', '-ss', '480', '-t', '60', 'data_samples/split/ikinci el_008.wav']\n",
      "['ffmpeg', '-i', 'data_samples/ikinci el.wav', '-ss', '540', '-t', '45.440000000000055', 'data_samples/split/ikinci el_009.wav']\n",
      "split into  10 chunks. Output:  data_samples/split/\n"
     ]
    },
    {
     "data": {
      "text/plain": [
       "'data_samples/split/'"
      ]
     },
     "execution_count": 2,
     "metadata": {},
     "output_type": "execute_result"
    }
   ],
   "source": [
    "video_input = 'data_samples/ikinci el.wav'\n",
    "chunk_duration = 60\n",
    "split_out_dir = 'data_samples/split/'\n",
    "split_video_file_into_chunks(video_input, chunk_duration, split_out_dir)"
   ]
  },
  {
   "cell_type": "markdown",
   "metadata": {},
   "source": [
    "### crop_audio_video(infile, start, duration, outfile, verbose=False)\n",
    "\n",
    "Crops an audio/video file. \n",
    "\n",
    "Inputs: \n",
    "* infile: The path to the input file to be cropped. \n",
    "* start: The start index in seconds. \n",
    "* duration: The duration of the cropped new audio/video. The output will be from the start index to start+duration. \n",
    "* outfile: The target file to write the cropped new file. \n",
    "\n",
    "Outputs:\n",
    "* The path to the new created file."
   ]
  },
  {
   "cell_type": "code",
   "execution_count": 1,
   "metadata": {},
   "outputs": [],
   "source": [
    "from audiovideo.operations import crop_audio_video"
   ]
  },
  {
   "cell_type": "code",
   "execution_count": 3,
   "metadata": {},
   "outputs": [
    {
     "name": "stdout",
     "output_type": "stream",
     "text": [
      "File cropped:  data_samples/cropped.wav\n"
     ]
    }
   ],
   "source": [
    "infile = 'data_samples/ikinci el.wav'\n",
    "start = 0\n",
    "duration = 60\n",
    "outfile = 'data_samples/cropped.wav'\n",
    "\n",
    "crop_audio_video(infile, start, duration, outfile)"
   ]
  },
  {
   "cell_type": "markdown",
   "metadata": {},
   "source": [
    "### convert_audio_video(video_input, video_output):\n",
    "\n",
    "Converts the given audio/video file. Simply specify a different file extension to make the conversion. \n",
    "    \n",
    "Inputs:\n",
    "* video_input: The source audio/video file.\n",
    "* video_output: Target audio/video file. \n",
    "\n",
    "Returns:\n",
    "The path to the new file. "
   ]
  },
  {
   "cell_type": "code",
   "execution_count": 1,
   "metadata": {},
   "outputs": [],
   "source": [
    "from audiovideo.operations import convert_audio_video"
   ]
  },
  {
   "cell_type": "code",
   "execution_count": 2,
   "metadata": {},
   "outputs": [
    {
     "name": "stdout",
     "output_type": "stream",
     "text": [
      "Conversion complete:  data_samples/ikinci el.mp3\n"
     ]
    },
    {
     "data": {
      "text/plain": [
       "'data_samples/ikinci el.mp3'"
      ]
     },
     "execution_count": 2,
     "metadata": {},
     "output_type": "execute_result"
    }
   ],
   "source": [
    "infile = 'data_samples/ikinci el.wav'\n",
    "outfile = 'data_samples/ikinci el.mp3'\n",
    "\n",
    "convert_audio_video(infile, outfile)"
   ]
  },
  {
   "cell_type": "markdown",
   "metadata": {},
   "source": [
    "### check_video_integrity(video_input)\n",
    "\n",
    "This is an untested method. We need to make sure this one works correctly before using it. \n",
    "\n",
    "#### todo: test the method. write the documentation.\n",
    "\n",
    "\n"
   ]
  }
 ],
 "metadata": {
  "interpreter": {
   "hash": "85bcf31cec6d3b6c4091d9908359410d58d8463863a4d42defe410defcedc76b"
  },
  "kernelspec": {
   "display_name": "Python 3.7.0 64-bit ('base': conda)",
   "language": "python",
   "name": "python3"
  },
  "language_info": {
   "codemirror_mode": {
    "name": "ipython",
    "version": 3
   },
   "file_extension": ".py",
   "mimetype": "text/x-python",
   "name": "python",
   "nbconvert_exporter": "python",
   "pygments_lexer": "ipython3",
   "version": "3.7.0"
  },
  "orig_nbformat": 4
 },
 "nbformat": 4,
 "nbformat_minor": 2
}
